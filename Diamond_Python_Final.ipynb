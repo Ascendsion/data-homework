{
 "cells": [
  {
   "cell_type": "code",
   "execution_count": 1,
   "id": "cd4af1f5-2fd5-40c0-b7b2-83ca8f411be6",
   "metadata": {},
   "outputs": [],
   "source": [
    "import seaborn as sns\n",
    "from sklearn.utils import shuffle\n",
    "Diamonds = shuffle(sns.load_dataset('diamonds'))"
   ]
  },
  {
   "cell_type": "code",
   "execution_count": 2,
   "id": "e8123232-aef3-4306-b53a-9674f8616dae",
   "metadata": {},
   "outputs": [],
   "source": [
    "from sklearn.model_selection import train_test_split\n",
    "import pandas as pd\n",
    "from sklearn.linear_model import LinearRegression\n",
    "from sklearn.model_selection import train_test_split\n",
    "import matplotlib.pyplot as plt\n",
    "%matplotlib inline\n",
    "from sklearn import metrics\n",
    "import numpy as np"
   ]
  },
  {
   "cell_type": "code",
   "execution_count": 4,
   "id": "9de8a55f-7180-4851-b25a-3f2332ad5753",
   "metadata": {},
   "outputs": [
    {
     "data": {
      "text/plain": [
       "0.30    2604\n",
       "0.31    2249\n",
       "1.01    2242\n",
       "0.70    1981\n",
       "0.32    1840\n",
       "        ... \n",
       "3.67       1\n",
       "3.40       1\n",
       "5.01       1\n",
       "3.22       1\n",
       "3.02       1\n",
       "Name: carat, Length: 273, dtype: int64"
      ]
     },
     "execution_count": 4,
     "metadata": {},
     "output_type": "execute_result"
    }
   ],
   "source": [
    "Diamonds.carat.value_counts()"
   ]
  },
  {
   "cell_type": "code",
   "execution_count": 21,
   "id": "0bc9277d-8232-4951-b6ae-450f2c88473e",
   "metadata": {},
   "outputs": [],
   "source": [
    "x = Diamonds[['carat', 'cutR', 'colorR', 'clarityR']]"
   ]
  },
  {
   "cell_type": "code",
   "execution_count": 23,
   "id": "e15d2514-a817-4719-9a22-c579ce04e60a",
   "metadata": {},
   "outputs": [],
   "source": [
    "y = Diamonds['price']"
   ]
  },
  {
   "cell_type": "code",
   "execution_count": 24,
   "id": "f03744e0-a7fd-4b70-9386-52c9ce215cd1",
   "metadata": {},
   "outputs": [],
   "source": [
    "x_train, x_test, y_train, y_test = \n",
    "    train_test_split(x,y, test_size = .4, random_state=101)"
   ]
  },
  {
   "cell_type": "code",
   "execution_count": null,
   "id": "777ca9fe-ac42-480c-834b-9131a546a1a6",
   "metadata": {},
   "outputs": [],
   "source": [
    "print(x_train.shape, y_train.shape)\n",
    "print(x_test.shape, y_test.shape)"
   ]
  },
  {
   "cell_type": "code",
   "execution_count": 36,
   "id": "9f3d193f-bbbf-464b-a39c-8a9ddd86a27f",
   "metadata": {},
   "outputs": [
    {
     "data": {
      "text/plain": [
       "cutR\n",
       "0    21551\n",
       "1    13791\n",
       "2    12082\n",
       "3     4906\n",
       "4     1610\n",
       "dtype: int64"
      ]
     },
     "execution_count": 36,
     "metadata": {},
     "output_type": "execute_result"
    }
   ],
   "source": [
    "Diamonds.value_counts(\"cutR\")"
   ]
  },
  {
   "cell_type": "code",
   "execution_count": 7,
   "id": "4f2d397c-2ac9-4feb-a295-2c31a52f58c9",
   "metadata": {},
   "outputs": [],
   "source": [
    "def cut_recode (series): \n",
    "    if series == \"Ideal\": \n",
    "        return 0\n",
    "    if series == \"Premium\": \n",
    "        return 1\n",
    "    if series == \"Very Good\": \n",
    "        return 2\n",
    "    if series == \"Good\": \n",
    "        return 3\n",
    "    if series == \"Fair\": \n",
    "        return 4\n",
    "\n",
    "Diamonds['cutR'] = Diamonds['cut'].apply(cut_recode)"
   ]
  },
  {
   "cell_type": "code",
   "execution_count": 11,
   "id": "1d413108-9d0f-4a66-857e-609d4b6b6d1c",
   "metadata": {},
   "outputs": [
    {
     "data": {
      "text/plain": [
       "colorR\n",
       "0    11292\n",
       "1     9797\n",
       "2     9542\n",
       "3     8304\n",
       "4     6775\n",
       "5     5422\n",
       "6     2808\n",
       "dtype: int64"
      ]
     },
     "execution_count": 11,
     "metadata": {},
     "output_type": "execute_result"
    }
   ],
   "source": [
    "Diamonds.value_counts(\"colorR\")"
   ]
  },
  {
   "cell_type": "code",
   "execution_count": 10,
   "id": "6dd04bbc-6f95-44ab-a1ec-761fa663f4f0",
   "metadata": {},
   "outputs": [],
   "source": [
    "def color_recode (series): \n",
    "    if series == \"G\": \n",
    "        return 0\n",
    "    if series == \"E\": \n",
    "        return 1\n",
    "    if series == \"F\": \n",
    "        return 2\n",
    "    if series == \"H\": \n",
    "        return 3\n",
    "    if series == \"D\": \n",
    "        return 4\n",
    "    if series == \"I\": \n",
    "        return 5\n",
    "    if series == \"J\": \n",
    "        return 6\n",
    "\n",
    "Diamonds['colorR'] = Diamonds['color'].apply(color_recode)"
   ]
  },
  {
   "cell_type": "code",
   "execution_count": 14,
   "id": "31792801-929a-4a7c-b850-7bf3a0d27cd4",
   "metadata": {},
   "outputs": [
    {
     "data": {
      "text/plain": [
       "clarityR\n",
       "0    13065\n",
       "1    12258\n",
       "2     9194\n",
       "3     8171\n",
       "4     5066\n",
       "5     3655\n",
       "6     1790\n",
       "7      741\n",
       "dtype: int64"
      ]
     },
     "execution_count": 14,
     "metadata": {},
     "output_type": "execute_result"
    }
   ],
   "source": [
    "Diamonds.value_counts(\"clarityR\")"
   ]
  },
  {
   "cell_type": "code",
   "execution_count": 13,
   "id": "ddb6b2db-aeb5-4cf2-80e4-947c970fdc77",
   "metadata": {},
   "outputs": [],
   "source": [
    "def clarity_recode (series): \n",
    "    if series == \"SI1\": \n",
    "        return 0\n",
    "    if series == \"VS2\": \n",
    "        return 1\n",
    "    if series == \"SI2\": \n",
    "        return 2\n",
    "    if series == \"VS1\": \n",
    "        return 3\n",
    "    if series == \"VVS2\": \n",
    "        return 4\n",
    "    if series == \"VVS1\": \n",
    "        return 5\n",
    "    if series == \"IF\": \n",
    "        return 6\n",
    "    if series == \"I1\": \n",
    "        return 7\n",
    "\n",
    "Diamonds['clarityR'] = Diamonds['clarity'].apply(clarity_recode)"
   ]
  },
  {
   "cell_type": "code",
   "execution_count": 15,
   "id": "bae536e4-164f-49f7-b8a1-5c1d2c669e4c",
   "metadata": {},
   "outputs": [
    {
     "name": "stdout",
     "output_type": "stream",
     "text": [
      "<class 'pandas.core.frame.DataFrame'>\n",
      "Int64Index: 53940 entries, 31126 to 15042\n",
      "Data columns (total 13 columns):\n",
      " #   Column    Non-Null Count  Dtype   \n",
      "---  ------    --------------  -----   \n",
      " 0   carat     53940 non-null  float64 \n",
      " 1   cut       53940 non-null  category\n",
      " 2   color     53940 non-null  category\n",
      " 3   clarity   53940 non-null  category\n",
      " 4   depth     53940 non-null  float64 \n",
      " 5   table     53940 non-null  float64 \n",
      " 6   price     53940 non-null  int64   \n",
      " 7   x         53940 non-null  float64 \n",
      " 8   y         53940 non-null  float64 \n",
      " 9   z         53940 non-null  float64 \n",
      " 10  cutR      53940 non-null  category\n",
      " 11  colorR    53940 non-null  category\n",
      " 12  clarityR  53940 non-null  category\n",
      "dtypes: category(6), float64(6), int64(1)\n",
      "memory usage: 3.6 MB\n"
     ]
    }
   ],
   "source": [
    "Diamonds.info()"
   ]
  },
  {
   "cell_type": "code",
   "execution_count": 18,
   "id": "609e6457-e05c-41e7-bf0b-2dc974ac011c",
   "metadata": {},
   "outputs": [],
   "source": [
    "lm = LinearRegression()"
   ]
  },
  {
   "cell_type": "code",
   "execution_count": 25,
   "id": "8184d86d-18ac-499b-b91c-4b31016a8a31",
   "metadata": {},
   "outputs": [
    {
     "data": {
      "text/plain": [
       "LinearRegression()"
      ]
     },
     "execution_count": 25,
     "metadata": {},
     "output_type": "execute_result"
    }
   ],
   "source": [
    "lm.fit(x_train, y_train)"
   ]
  },
  {
   "cell_type": "code",
   "execution_count": 17,
   "id": "db45ea12-3432-4266-8f47-71e4b41300b9",
   "metadata": {},
   "outputs": [],
   "source": [
    "Diamonds.drop(['cut', 'color', 'clarity'], axis=1, inplace=True)"
   ]
  },
  {
   "cell_type": "code",
   "execution_count": 26,
   "id": "fc904574-3b93-4683-abdd-0027b57b7e37",
   "metadata": {},
   "outputs": [
    {
     "data": {
      "text/plain": [
       "array([ 1580.47128684,  2072.37603179,  2411.0852803 , ...,\n",
       "        2011.98538839,   643.01010563, 10310.6363118 ])"
      ]
     },
     "execution_count": 26,
     "metadata": {},
     "output_type": "execute_result"
    }
   ],
   "source": [
    "predictions = lm.predict(x_test)\n",
    "predictions"
   ]
  },
  {
   "cell_type": "code",
   "execution_count": 27,
   "id": "da43e678-6efe-40ef-b52f-e671ef621416",
   "metadata": {},
   "outputs": [
    {
     "data": {
      "text/plain": [
       "<matplotlib.collections.PathCollection at 0x1e6490a8a90>"
      ]
     },
     "execution_count": 27,
     "metadata": {},
     "output_type": "execute_result"
    },
    {
     "data": {
      "image/png": "[encoded data removed]",
      "text/plain": [
       "<Figure size 432x288 with 1 Axes>"
      ]
     },
     "metadata": {
      "needs_background": "light"
     },
     "output_type": "display_data"
    }
   ],
   "source": [
    "plt.scatter(y_test, predictions)"
   ]
  },
  {
   "cell_type": "code",
   "execution_count": 28,
   "id": "c55991e4-8ff6-4a94-b350-151df1a2be21",
   "metadata": {},
   "outputs": [
    {
     "name": "stdout",
     "output_type": "stream",
     "text": [
      "Score: 0.8675799538645071\n"
     ]
    }
   ],
   "source": [
    "print(\"Score:\", lm.score(x_test, y_test))"
   ]
  },
  {
   "cell_type": "code",
   "execution_count": null,
   "id": "8a7546e7-b7a8-4125-801d-df8bb6ac0b1c",
   "metadata": {},
   "outputs": [],
   "source": [
    "#Model is accurate ~86.76% of the time."
   ]
  },
  {
   "cell_type": "code",
   "execution_count": 30,
   "id": "fb6e0497-5d92-4236-994b-b13a2592d234",
   "metadata": {},
   "outputs": [],
   "source": [
    "from sklearn.model_selection import KFold\n",
    "from sklearn.model_selection import cross_val_score"
   ]
  },
  {
   "cell_type": "code",
   "execution_count": 33,
   "id": "da6f0d4a-f3c0-4ffa-ac2c-f3a282c8fbeb",
   "metadata": {},
   "outputs": [
    {
     "name": "stdout",
     "output_type": "stream",
     "text": [
      "train: [    0     1     2 ... 53937 53938 53939], test: [   10    12    23 ... 53906 53911 53913]\n",
      "train: [    0     1     4 ... 53936 53938 53939], test: [    2     3     8 ... 53934 53935 53937]\n",
      "train: [    1     2     3 ... 53937 53938 53939], test: [    0    26    29 ... 53922 53933 53936]\n",
      "train: [    0     2     3 ... 53937 53938 53939], test: [    1     4     5 ... 53927 53930 53931]\n",
      "train: [    0     1     2 ... 53935 53936 53937], test: [    9    14    15 ... 53929 53938 53939]\n"
     ]
    },
    {
     "name": "stderr",
     "output_type": "stream",
     "text": [
      "C:\\Users\\olver\\anaconda3\\lib\\site-packages\\sklearn\\utils\\validation.py:70: FutureWarning: Pass shuffle=True, random_state=1 as keyword args. From version 1.0 (renaming of 0.25) passing these as positional arguments will result in an error\n",
      "  warnings.warn(f\"Pass {args_msg} as keyword args. From version \"\n"
     ]
    }
   ],
   "source": [
    "kfold = KFold(5, True, 1)\n",
    "for train, test in kfold.split(x,y):\n",
    "    print('train: %s, test: %s' % (train,test))"
   ]
  },
  {
   "cell_type": "code",
   "execution_count": 34,
   "id": "1116b968-8468-4777-bdee-a6c09e97bc39",
   "metadata": {},
   "outputs": [
    {
     "name": "stdout",
     "output_type": "stream",
     "text": [
      "[0.86562807 0.86445128 0.86308226 0.8655198  0.86107828]\n"
     ]
    }
   ],
   "source": [
    "print(cross_val_score(lm, x,y, cv=5))"
   ]
  },
  {
   "cell_type": "code",
   "execution_count": null,
   "id": "d3d28998-c7ae-4fed-a6a9-79b2a4da3ada",
   "metadata": {},
   "outputs": [],
   "source": []
  }
 ],
 "metadata": {
  "kernelspec": {
   "display_name": "Python 3 (ipykernel)",
   "language": "python",
   "name": "python3"
  },
  "language_info": {
   "codemirror_mode": {
    "name": "ipython",
    "version": 3
   },
   "file_extension": ".py",
   "mimetype": "text/x-python",
   "name": "python",
   "nbconvert_exporter": "python",
   "pygments_lexer": "ipython3",
   "version": "3.9.7"
  }
 },
 "nbformat": 4,
 "nbformat_minor": 5
}
