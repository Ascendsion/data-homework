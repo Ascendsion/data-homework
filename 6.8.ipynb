{
 "cells": [
  {
   "cell_type": "code",
   "execution_count": 5,
   "id": "e937e321-1347-431c-9885-0f8ef6bda32c",
   "metadata": {},
   "outputs": [],
   "source": [
    "import seaborn as sns\n",
    "Titanic = sns.load_dataset('titanic')"
   ]
  },
  {
   "cell_type": "code",
   "execution_count": 21,
   "id": "52b296b2-d24a-48e6-b05f-607a7728665d",
   "metadata": {},
   "outputs": [],
   "source": [
    "import pandas as pd\n",
    "import numpy as np\n",
    "import matplotlib.pyplot as plt\n",
    "import seaborn as sns\n",
    "%matplotlib inline\n",
    "from sklearn.model_selection import train_test_split\n",
    "from sklearn.tree import DecisionTreeClassifier\n",
    "from sklearn.metrics import classification_report, confusion_matrix, accuracy_score"
   ]
  },
  {
   "cell_type": "code",
   "execution_count": 127,
   "id": "727877e4-592e-420d-a7c0-159f041fb586",
   "metadata": {},
   "outputs": [],
   "source": [
    "import pandas as pd\n",
    "import numpy as np\n",
    "import matplotlib.pyplot as plt\n",
    "import seaborn as sns\n",
    "%matplotlib inline\n",
    "from sklearn.ensemble import RandomForestClassifier\n",
    "from sklearn.model_selection import train_test_split\n",
    "from sklearn.metrics import classification_report, confusion_matrix"
   ]
  },
  {
   "cell_type": "code",
   "execution_count": 131,
   "id": "8bb25696-9e84-45a8-b421-fece34c58585",
   "metadata": {},
   "outputs": [],
   "source": [
    "Titanic2 = Titanic.drop(['survived','deck','embark_town','alone'], axis=1)\n",
    "##(,'adult_male')"
   ]
  },
  {
   "cell_type": "code",
   "execution_count": 132,
   "id": "be45fc5c-ea68-4e80-afe7-303ddf67e60e",
   "metadata": {},
   "outputs": [
    {
     "data": {
      "text/html": [
       "<div>\n",
       "<style scoped>\n",
       "    .dataframe tbody tr th:only-of-type {\n",
       "        vertical-align: middle;\n",
       "    }\n",
       "\n",
       "    .dataframe tbody tr th {\n",
       "        vertical-align: top;\n",
       "    }\n",
       "\n",
       "    .dataframe thead th {\n",
       "        text-align: right;\n",
       "    }\n",
       "</style>\n",
       "<table border=\"1\" class=\"dataframe\">\n",
       "  <thead>\n",
       "    <tr style=\"text-align: right;\">\n",
       "      <th></th>\n",
       "      <th>pclass</th>\n",
       "      <th>sex</th>\n",
       "      <th>age</th>\n",
       "      <th>sibsp</th>\n",
       "      <th>parch</th>\n",
       "      <th>fare</th>\n",
       "      <th>embarked</th>\n",
       "      <th>class</th>\n",
       "      <th>who</th>\n",
       "      <th>adult_male</th>\n",
       "      <th>alive</th>\n",
       "      <th>sexR</th>\n",
       "    </tr>\n",
       "  </thead>\n",
       "  <tbody>\n",
       "    <tr>\n",
       "      <th>0</th>\n",
       "      <td>3</td>\n",
       "      <td>male</td>\n",
       "      <td>22.0</td>\n",
       "      <td>1</td>\n",
       "      <td>0</td>\n",
       "      <td>7.2500</td>\n",
       "      <td>S</td>\n",
       "      <td>Third</td>\n",
       "      <td>man</td>\n",
       "      <td>True</td>\n",
       "      <td>no</td>\n",
       "      <td>None</td>\n",
       "    </tr>\n",
       "    <tr>\n",
       "      <th>1</th>\n",
       "      <td>1</td>\n",
       "      <td>female</td>\n",
       "      <td>38.0</td>\n",
       "      <td>1</td>\n",
       "      <td>0</td>\n",
       "      <td>71.2833</td>\n",
       "      <td>C</td>\n",
       "      <td>First</td>\n",
       "      <td>woman</td>\n",
       "      <td>False</td>\n",
       "      <td>yes</td>\n",
       "      <td>None</td>\n",
       "    </tr>\n",
       "    <tr>\n",
       "      <th>2</th>\n",
       "      <td>3</td>\n",
       "      <td>female</td>\n",
       "      <td>26.0</td>\n",
       "      <td>0</td>\n",
       "      <td>0</td>\n",
       "      <td>7.9250</td>\n",
       "      <td>S</td>\n",
       "      <td>Third</td>\n",
       "      <td>woman</td>\n",
       "      <td>False</td>\n",
       "      <td>yes</td>\n",
       "      <td>None</td>\n",
       "    </tr>\n",
       "    <tr>\n",
       "      <th>3</th>\n",
       "      <td>1</td>\n",
       "      <td>female</td>\n",
       "      <td>35.0</td>\n",
       "      <td>1</td>\n",
       "      <td>0</td>\n",
       "      <td>53.1000</td>\n",
       "      <td>S</td>\n",
       "      <td>First</td>\n",
       "      <td>woman</td>\n",
       "      <td>False</td>\n",
       "      <td>yes</td>\n",
       "      <td>None</td>\n",
       "    </tr>\n",
       "    <tr>\n",
       "      <th>4</th>\n",
       "      <td>3</td>\n",
       "      <td>male</td>\n",
       "      <td>35.0</td>\n",
       "      <td>0</td>\n",
       "      <td>0</td>\n",
       "      <td>8.0500</td>\n",
       "      <td>S</td>\n",
       "      <td>Third</td>\n",
       "      <td>man</td>\n",
       "      <td>True</td>\n",
       "      <td>no</td>\n",
       "      <td>None</td>\n",
       "    </tr>\n",
       "  </tbody>\n",
       "</table>\n",
       "</div>"
      ],
      "text/plain": [
       "   pclass     sex   age  sibsp  parch     fare embarked  class    who  \\\n",
       "0       3    male  22.0      1      0   7.2500        S  Third    man   \n",
       "1       1  female  38.0      1      0  71.2833        C  First  woman   \n",
       "2       3  female  26.0      0      0   7.9250        S  Third  woman   \n",
       "3       1  female  35.0      1      0  53.1000        S  First  woman   \n",
       "4       3    male  35.0      0      0   8.0500        S  Third    man   \n",
       "\n",
       "   adult_male alive  sexR  \n",
       "0        True    no  None  \n",
       "1       False   yes  None  \n",
       "2       False   yes  None  \n",
       "3       False   yes  None  \n",
       "4        True    no  None  "
      ]
     },
     "execution_count": 132,
     "metadata": {},
     "output_type": "execute_result"
    }
   ],
   "source": [
    "Titanic2.head()"
   ]
  },
  {
   "cell_type": "code",
   "execution_count": 97,
   "id": "43a490f8-af47-4799-b331-7f60bcc9b251",
   "metadata": {},
   "outputs": [
    {
     "data": {
      "text/plain": [
       "0    577\n",
       "1    314\n",
       "Name: sexR, dtype: int64"
      ]
     },
     "execution_count": 97,
     "metadata": {},
     "output_type": "execute_result"
    }
   ],
   "source": [
    "Titanic2.sexR.value_counts()"
   ]
  },
  {
   "cell_type": "code",
   "execution_count": 108,
   "id": "cd3dcd9d-08a6-4d6c-b5fc-8d9360782e89",
   "metadata": {},
   "outputs": [],
   "source": [
    "def sex_recode (series): \n",
    "    if series == \"male\": \n",
    "        return 0\n",
    "    if series == \"female\": \n",
    "        return 1\n",
    "\n",
    "Titanic2['sexR'] = Titanic2['sex'].apply(sex_recode)"
   ]
  },
  {
   "cell_type": "code",
   "execution_count": 106,
   "id": "8a862028-aefc-475c-b073-8a6c82a82fcb",
   "metadata": {},
   "outputs": [
    {
     "data": {
      "text/plain": [
       "0    554\n",
       "1    130\n",
       "2     28\n",
       "Name: embarkedR, dtype: int64"
      ]
     },
     "execution_count": 106,
     "metadata": {},
     "output_type": "execute_result"
    }
   ],
   "source": [
    "Titanic2.embarkedR.value_counts()"
   ]
  },
  {
   "cell_type": "code",
   "execution_count": 109,
   "id": "8345003f-06b6-422b-8faa-dbd366344f0b",
   "metadata": {},
   "outputs": [],
   "source": [
    "def embarked_recode (series): \n",
    "    if series == \"S\": \n",
    "        return 0\n",
    "    if series == \"C\": \n",
    "        return 1\n",
    "    if series == \"Q\": \n",
    "        return 2\n",
    "\n",
    "Titanic2['embarkedR'] = Titanic2['embarked'].apply(embarked_recode)"
   ]
  },
  {
   "cell_type": "code",
   "execution_count": 59,
   "id": "0d6ed2e8-527d-481c-a3b8-d2fcdb218dd8",
   "metadata": {},
   "outputs": [
    {
     "data": {
      "text/plain": [
       "3    491\n",
       "1    216\n",
       "2    184\n",
       "Name: classR, dtype: int64"
      ]
     },
     "execution_count": 59,
     "metadata": {},
     "output_type": "execute_result"
    }
   ],
   "source": [
    "Titanic2.classR.value_counts()"
   ]
  },
  {
   "cell_type": "code",
   "execution_count": 110,
   "id": "e6be2e1c-2ec5-4006-bc59-dc19bad501fe",
   "metadata": {},
   "outputs": [],
   "source": [
    "def class_recode (series): \n",
    "    if series == \"First\": \n",
    "        return 1\n",
    "    if series == \"Second\": \n",
    "        return 2\n",
    "    if series == \"Third\": \n",
    "        return 3\n",
    "\n",
    "Titanic2['classR'] = Titanic2['class'].apply(class_recode)"
   ]
  },
  {
   "cell_type": "code",
   "execution_count": 62,
   "id": "af56807d-b0f9-4391-ae07-d43ddb9444a9",
   "metadata": {},
   "outputs": [
    {
     "data": {
      "text/plain": [
       "1    537\n",
       "2    271\n",
       "3     83\n",
       "Name: whoR, dtype: int64"
      ]
     },
     "execution_count": 62,
     "metadata": {},
     "output_type": "execute_result"
    }
   ],
   "source": [
    "Titanic2.whoR.value_counts()"
   ]
  },
  {
   "cell_type": "code",
   "execution_count": 111,
   "id": "af2f7a2e-e25d-4c29-b252-c28d29a147af",
   "metadata": {},
   "outputs": [],
   "source": [
    "def who_recode (series): \n",
    "    if series == \"man\": \n",
    "        return 1\n",
    "    if series == \"woman\": \n",
    "        return 2\n",
    "    if series == \"child\": \n",
    "        return 3\n",
    "\n",
    "Titanic2['whoR'] = Titanic2['who'].apply(who_recode)"
   ]
  },
  {
   "cell_type": "code",
   "execution_count": 85,
   "id": "e34b03e2-0d51-4e77-847a-28b9e7562f69",
   "metadata": {},
   "outputs": [
    {
     "data": {
      "text/plain": [
       "0    549\n",
       "1    342\n",
       "Name: aliveR, dtype: int64"
      ]
     },
     "execution_count": 85,
     "metadata": {},
     "output_type": "execute_result"
    }
   ],
   "source": [
    "Titanic2.aliveR.value_counts()"
   ]
  },
  {
   "cell_type": "code",
   "execution_count": 112,
   "id": "bf30e54d-b946-4887-8d7f-3a399a640185",
   "metadata": {},
   "outputs": [],
   "source": [
    "def alive_recode (series): \n",
    "    if series == \"yes\": \n",
    "        return 1\n",
    "    if series == \"no\": \n",
    "        return 0\n",
    "\n",
    "Titanic2['aliveR'] = Titanic2['alive'].apply(alive_recode)"
   ]
  },
  {
   "cell_type": "code",
   "execution_count": 134,
   "id": "7b9e6491-73c5-4c4a-824e-c2b7233ad154",
   "metadata": {},
   "outputs": [],
   "source": [
    "Titanic2['adult_male'] = pd.to_numeric(Titanic2['adult_male'], errors ='coerce')"
   ]
  },
  {
   "cell_type": "code",
   "execution_count": 137,
   "id": "ef0055d4-fcba-4510-94d1-6286a2ef3dda",
   "metadata": {},
   "outputs": [
    {
     "name": "stdout",
     "output_type": "stream",
     "text": [
      "<class 'pandas.core.frame.DataFrame'>\n",
      "Int64Index: 0 entries\n",
      "Data columns (total 12 columns):\n",
      " #   Column      Non-Null Count  Dtype   \n",
      "---  ------      --------------  -----   \n",
      " 0   pclass      0 non-null      int64   \n",
      " 1   sex         0 non-null      object  \n",
      " 2   age         0 non-null      float64 \n",
      " 3   sibsp       0 non-null      int64   \n",
      " 4   parch       0 non-null      int64   \n",
      " 5   fare        0 non-null      float64 \n",
      " 6   embarked    0 non-null      object  \n",
      " 7   class       0 non-null      category\n",
      " 8   who         0 non-null      object  \n",
      " 9   adult_male  0 non-null      bool    \n",
      " 10  alive       0 non-null      object  \n",
      " 11  sexR        0 non-null      object  \n",
      "dtypes: bool(1), category(1), float64(2), int64(3), object(5)\n",
      "memory usage: 132.0+ bytes\n"
     ]
    }
   ],
   "source": [
    "Titanic2.info()"
   ]
  },
  {
   "cell_type": "code",
   "execution_count": 136,
   "id": "920678e1-f7f9-470f-bb57-2fa21a1c61f4",
   "metadata": {},
   "outputs": [],
   "source": [
    "Titanic2.dropna(inplace=True)"
   ]
  },
  {
   "cell_type": "code",
   "execution_count": 118,
   "id": "c9c6f211-94ce-4516-b5d0-b9afa6ba8199",
   "metadata": {},
   "outputs": [],
   "source": [
    "x = Titanic2[['pclass', 'age', 'sibsp', 'parch','fare', 'sexR', 'embarkedR', 'classR', 'whoR']]"
   ]
  },
  {
   "cell_type": "code",
   "execution_count": 119,
   "id": "f5aa1f7f-f5cb-4447-ab67-f88e787ad847",
   "metadata": {},
   "outputs": [],
   "source": [
    "y = Titanic2['alive']"
   ]
  },
  {
   "cell_type": "code",
   "execution_count": 121,
   "id": "4658d53c-bd41-4467-9e44-96708a1d1b34",
   "metadata": {},
   "outputs": [],
   "source": [
    "x_train, x_test, y_train, y_test = train_test_split(x,y, test_size=0.3, random_state=76)"
   ]
  },
  {
   "cell_type": "code",
   "execution_count": 122,
   "id": "fa7605c6-bf8a-46c3-94d4-eb42ed308d9c",
   "metadata": {},
   "outputs": [
    {
     "data": {
      "text/plain": [
       "DecisionTreeClassifier(random_state=76)"
      ]
     },
     "execution_count": 122,
     "metadata": {},
     "output_type": "execute_result"
    }
   ],
   "source": [
    "decisionTree = DecisionTreeClassifier(random_state=76)\n",
    "decisionTree.fit(x_train, y_train)"
   ]
  },
  {
   "cell_type": "code",
   "execution_count": 125,
   "id": "e891ff53-dbd8-44a5-91b7-8233d91c63f5",
   "metadata": {},
   "outputs": [
    {
     "name": "stdout",
     "output_type": "stream",
     "text": [
      "[[125   0]\n",
      " [  0  89]]\n"
     ]
    }
   ],
   "source": [
    "treePredictions = decisionTree.predict(x_test)\n",
    "print(confusion_matrix(y_test, treePredictions))"
   ]
  },
  {
   "cell_type": "code",
   "execution_count": 126,
   "id": "e96ee5ac-2b56-4103-899d-5b1a915f49ab",
   "metadata": {},
   "outputs": [
    {
     "name": "stdout",
     "output_type": "stream",
     "text": [
      "              precision    recall  f1-score   support\n",
      "\n",
      "          no       1.00      1.00      1.00       125\n",
      "         yes       1.00      1.00      1.00        89\n",
      "\n",
      "    accuracy                           1.00       214\n",
      "   macro avg       1.00      1.00      1.00       214\n",
      "weighted avg       1.00      1.00      1.00       214\n",
      "\n"
     ]
    }
   ],
   "source": [
    "print(classification_report(y_test, treePredictions))"
   ]
  },
  {
   "cell_type": "code",
   "execution_count": 128,
   "id": "e3affbba-a184-4571-942c-1458d769a9a5",
   "metadata": {},
   "outputs": [
    {
     "data": {
      "text/plain": [
       "RandomForestClassifier()"
      ]
     },
     "execution_count": 128,
     "metadata": {},
     "output_type": "execute_result"
    }
   ],
   "source": [
    "forest = RandomForestClassifier()\n",
    "forest.fit(x_train, y_train)"
   ]
  },
  {
   "cell_type": "code",
   "execution_count": 129,
   "id": "1bc660c4-3da4-42af-9f75-39f32b0de095",
   "metadata": {},
   "outputs": [
    {
     "name": "stdout",
     "output_type": "stream",
     "text": [
      "1.0\n"
     ]
    }
   ],
   "source": [
    "print(accuracy_score(y_test, forest.predict(x_test)))"
   ]
  },
  {
   "cell_type": "code",
   "execution_count": 130,
   "id": "c9d21d7a-9a25-432d-9d58-dae7e5a037c6",
   "metadata": {},
   "outputs": [
    {
     "name": "stdout",
     "output_type": "stream",
     "text": [
      "              precision    recall  f1-score   support\n",
      "\n",
      "          no       1.00      1.00      1.00       125\n",
      "         yes       1.00      1.00      1.00        89\n",
      "\n",
      "    accuracy                           1.00       214\n",
      "   macro avg       1.00      1.00      1.00       214\n",
      "weighted avg       1.00      1.00      1.00       214\n",
      "\n"
     ]
    }
   ],
   "source": [
    "print(classification_report(y_test, forest.predict(x_test)))"
   ]
  },
  {
   "cell_type": "code",
   "execution_count": null,
   "id": "a867ed2c-abf8-47d6-a105-2b2952c46d8b",
   "metadata": {},
   "outputs": [],
   "source": []
  }
 ],
 "metadata": {
  "kernelspec": {
   "display_name": "Python 3 (ipykernel)",
   "language": "python",
   "name": "python3"
  },
  "language_info": {
   "codemirror_mode": {
    "name": "ipython",
    "version": 3
   },
   "file_extension": ".py",
   "mimetype": "text/x-python",
   "name": "python",
   "nbconvert_exporter": "python",
   "pygments_lexer": "ipython3",
   "version": "3.9.7"
  }
 },
 "nbformat": 4,
 "nbformat_minor": 5
}
