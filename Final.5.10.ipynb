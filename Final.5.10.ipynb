{
 "cells": [
  {
   "cell_type": "code",
   "execution_count": null,
   "id": "278a98b6",
   "metadata": {},
   "outputs": [],
   "source": [
    "#For this hands on, you will be asked to run analyses on the data supplied. For each scenario, you will need to:\n",
    "\n",
    "#Identify the statistic to be run\n",
    "#Test the appropriate assumptions\n",
    "#State the conclusion\n",
    "#There will be exactly one scenario each for the following hypothesis tests:\n",
    "\n",
    "#One-Way ANOVA\n",
    "#One proportion z test\n",
    "#Two proportion z test\n",
    "#Independent Chi-Square"
   ]
  },
  {
   "cell_type": "code",
   "execution_count": null,
   "id": "499f84a7",
   "metadata": {},
   "outputs": [],
   "source": [
    "#Scenario 1\n",
    "#Fawn is a private investigator. She has taken a job for an insurance company. The insurance company has been paying out large amounts of money for workman’s comp claims, and they believe some of those claims are fraudulent. The insurance company wants Fawn and her associates to run surveillance to determine if the rate of fraud is higher than what the industry normally reports. Specifically, they want to know if the incidence of fraud among claimants is more than 16%. They provide Fawn with a random sample of 94 claimants who have been diagnosed as unable to perform any physical labor beyond light housekeeping activities. They have asked Fawn to observe the sample, and report back to them how many of the claimants are obviously doing things that are much more strenuous than light housekeeping, such as strenuous yard work, weightlifting at the gym or other strenuous sporting activities, etc. Fawn and her team spend about 8 weeks completing their observations, and report back to the insurance company that 28 of the 94 claimants are not nearly as “disabled” as their diagnosis suggests. The insurance company wants to test the data. Complete a report for grading. The only data you need is to know that 28 of the 94 claimants are not nearly as “disabled” as their diagnosis suggests, and the hypothetical level of fraud is 16%."
   ]
  },
  {
   "cell_type": "code",
   "execution_count": null,
   "id": "a49ef710",
   "metadata": {},
   "outputs": [],
   "source": [
    "import numpy as np\n",
    "import pandas as pd\n",
    "import seaborn as sns\n",
    "import scipy\n",
    "from scipy import stats\n",
    "from statsmodels.stats.multicomp import pairwise_tukeyhsd\n",
    "from statsmodels.stats.multicomp import MultiComparison\n",
    "from statsmodels.stats.proportion import proportions_ztest\n",
    "from statsmodels.stats.proportion import proportions_chisquare"
   ]
  },
  {
   "cell_type": "code",
   "execution_count": null,
   "id": "294891e4",
   "metadata": {},
   "outputs": [],
   "source": [
    "count = 28\n",
    "nobs = 94\n",
    "value = .16\n",
    "stat, pval = proportions_ztest(count, nobs, value)\n",
    "print(stat, pval)"
   ]
  },
  {
   "cell_type": "code",
   "execution_count": null,
   "id": "8c94eea2",
   "metadata": {},
   "outputs": [],
   "source": [
    "#Scenario 2\n",
    "#Medical researchers are trying to understand if four topical antiseptics are being used in the same ratio at three different clinics in town. They have access to medical records over the past 3 years, and have recorded each treatment where a topical antiseptic was used. Using a tally sheet, they have determined how many times each antiseptic was used in each of the three clinics, and they want to compare the antiseptic usage across the three clinics. Complete a report for grading. The data can be found in the following file: Antiseptic Data."
   ]
  },
  {
   "cell_type": "code",
   "execution_count": null,
   "id": "20d1a666",
   "metadata": {},
   "outputs": [],
   "source": [
    "Antisceptic = pd.read_csv(\"antiseptics.csv\")\n",
    "Antisceptic.head()"
   ]
  },
  {
   "cell_type": "code",
   "execution_count": null,
   "id": "d6b9ab46",
   "metadata": {},
   "outputs": [],
   "source": [
    "Antisceptic_pivot = pd.pivot_table(Antisceptic,index='Antiseptic Type',columns='Clinic',values=\"Number of applications\")"
   ]
  },
  {
   "cell_type": "code",
   "execution_count": null,
   "id": "afdf5e62",
   "metadata": {},
   "outputs": [],
   "source": [
    "stats.chi2_contingency(Antisceptic_pivot)"
   ]
  },
  {
   "cell_type": "code",
   "execution_count": null,
   "id": "5b4a23dc",
   "metadata": {},
   "outputs": [],
   "source": [
    "#Scenario 3\n",
    "#A financial institution is interested in the savings practices of different demographic groups. They have demographic data for all of their account holders, and have used those criteria to split their customers up into 4 groups. They are going to use the results to do some targeted marketing. In order to determine savings practices, they are going to use the average savings account balance over the past 3 months for their account holders. In other words, they will have one number (average account balance) for each account. Each demographic group has between 40 and 60 accounts they will look at. Complete a report for grading. The data can be found in this file."
   ]
  },
  {
   "cell_type": "code",
   "execution_count": null,
   "id": "3f2c5914",
   "metadata": {},
   "outputs": [],
   "source": [
    "Savings = pd.read_csv(\"savings.csv\")\n",
    "Savings.head()"
   ]
  },
  {
   "cell_type": "code",
   "execution_count": null,
   "id": "99d29201",
   "metadata": {},
   "outputs": [],
   "source": [
    "SavingsExpanded=pd.melt(Savings,var_name='Group',value_name='AverageAccountBalance')\n",
    "SavingsExpanded.head()"
   ]
  },
  {
   "cell_type": "code",
   "execution_count": null,
   "id": "5ed3780f",
   "metadata": {},
   "outputs": [],
   "source": [
    "SavingsExpanded = SavingsExpanded.replace(Savings.columns, [0,1,2,3])"
   ]
  },
  {
   "cell_type": "code",
   "execution_count": null,
   "id": "8fad7fe3",
   "metadata": {},
   "outputs": [],
   "source": [
    "sns.distplot(SavingsExpanded.AverageAccountBalance)"
   ]
  },
  {
   "cell_type": "code",
   "execution_count": null,
   "id": "a61a1190",
   "metadata": {},
   "outputs": [],
   "source": [
    "scipy.stats.bartlett(SavingsExpanded['AverageAccountBalance'],SavingsExpanded['Group'])"
   ]
  },
  {
   "cell_type": "code",
   "execution_count": null,
   "id": "4eded298",
   "metadata": {},
   "outputs": [],
   "source": [
    "SavingsExpanded.dropna(inplace=True)"
   ]
  },
  {
   "cell_type": "code",
   "execution_count": null,
   "id": "c2aa61f2",
   "metadata": {},
   "outputs": [],
   "source": [
    "stats.f_oneway(SavingsExpanded['AverageAccountBalance'][SavingsExpanded['Group']==0],\n",
    "               SavingsExpanded['AverageAccountBalance'][SavingsExpanded['Group']==1],\n",
    "               SavingsExpanded['AverageAccountBalance'][SavingsExpanded['Group']==2],\n",
    "               SavingsExpanded['AverageAccountBalance'][SavingsExpanded['Group']==3])"
   ]
  },
  {
   "cell_type": "code",
   "execution_count": null,
   "id": "8e6ab8d8",
   "metadata": {},
   "outputs": [],
   "source": [
    "#Scenario 4\n",
    "#The local school board conducted a poll to gauge public sentiment about a school bond. They asked respondents if they favored or opposed a bond in the upcoming election. The respondents were asked some demographic questions, too.\n",
    "#Complete a report for grading. The counts for the different groups are as follows:\n",
    "\n",
    "#With school age children and favorable - 374\n",
    "#With school age children and unfavorable - 129\n",
    "#Without school age children and favorable - 171\n",
    "#Without school age children and unfavorable - 74\n",
    "#Use these data to complete your analysis, and use alpha = 0.05."
   ]
  },
  {
   "cell_type": "code",
   "execution_count": null,
   "id": "4eb49dc4",
   "metadata": {},
   "outputs": [],
   "source": [
    "count = np.array([374,171])\n",
    "nobs = np.array([129,74])\n",
    "stat, pval = proportions_ztest(count,nobs)\n",
    "print(stat, pval)"
   ]
  }
 ],
 "metadata": {
  "kernelspec": {
   "display_name": "Python 3 (ipykernel)",
   "language": "python",
   "name": "python3"
  },
  "language_info": {
   "codemirror_mode": {
    "name": "ipython",
    "version": 3
   },
   "file_extension": ".py",
   "mimetype": "text/x-python",
   "name": "python",
   "nbconvert_exporter": "python",
   "pygments_lexer": "ipython3",
   "version": "3.9.7"
  }
 },
 "nbformat": 4,
 "nbformat_minor": 5
}
